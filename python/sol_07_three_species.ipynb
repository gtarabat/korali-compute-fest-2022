{
 "cells": [
  {
   "cell_type": "markdown",
   "metadata": {},
   "source": [
    "# Three species "
   ]
  },
  {
   "cell_type": "code",
   "execution_count": null,
   "metadata": {},
   "outputs": [],
   "source": [
    "from IPython.display import HTML      # For animation.\n",
    "from matplotlib import animation      # For animation.\n",
    "from matplotlib import pyplot as plt  # For plotting.\n",
    "import numpy as np                    # For solving ODE.\n",
    "from scipy.integrate import odeint    # For solving ODE."
   ]
  },
  {
   "cell_type": "markdown",
   "metadata": {},
   "source": [
    "## Model "
   ]
  },
  {
   "cell_type": "code",
   "execution_count": null,
   "metadata": {},
   "outputs": [],
   "source": [
    "# Parameters.\n",
    "a = 0.5\n",
    "b = 0.01\n",
    "c = 0.1\n",
    "d = 0.01\n",
    "e = 0.01  # Try this value 0.1\n",
    "f = 0.5\n",
    "g = 0.01\n",
    "\n",
    "t0 = 0.0\n",
    "t1 = 50.0\n",
    "y0 = [10, 25, 5]  # Initial population of species 0, 1 and 2.\n",
    "\n",
    "# Model.\n",
    "# F = lambda y, t: [\n",
    "#     y[0] * (a - b * y[1]),   # How population 0 changes.\n",
    "#     y[1] * (-c + d * y[0]),  # How population 1 changes.\n",
    "# ]\n",
    "\n",
    "# TODO: Extend the 2-species model above to 3 species.\n",
    "# Use the parameters a, b, c, d, e, f, g defined above.\n",
    "F = lambda y, t: [\n",
    "    y[0] * (a - b * y[1]),              # How population 0 changes.\n",
    "    y[1] * (-c + d * y[0] - e * y[2]),  # How population 1 changes.\n",
    "    y[2] * (-f + g * y[1]),             # How population 2 changes.\n",
    "]"
   ]
  },
  {
   "cell_type": "code",
   "execution_count": null,
   "metadata": {},
   "outputs": [],
   "source": [
    "# Solve ODE.\n",
    "t = np.linspace(t0, t1, 1000)\n",
    "y = odeint(F, y0, t)"
   ]
  },
  {
   "cell_type": "code",
   "execution_count": null,
   "metadata": {},
   "outputs": [],
   "source": [
    "plt.plot(t, y[:, 0], label='Species #0')\n",
    "plt.plot(t, y[:, 1], label='Species #1')\n",
    "plt.plot(t, y[:, 2], label='Species #2')\n",
    "plt.xlabel('time')\n",
    "plt.ylabel('population')\n",
    "plt.grid(linestyle=':')\n",
    "plt.legend()\n",
    "plt.show()"
   ]
  },
  {
   "cell_type": "markdown",
   "metadata": {},
   "source": [
    "## Animation "
   ]
  },
  {
   "cell_type": "code",
   "execution_count": null,
   "metadata": {},
   "outputs": [],
   "source": [
    "# Same plot, but as an animation.\n",
    "# http://louistiao.me/posts/notebooks/embedding-matplotlib-animations-in-jupyter-notebooks/\n",
    "FRAMES = 200\n",
    "\n",
    "fig, ax = plt.subplots()\n",
    "ax.grid(linestyle=':')\n",
    "ax.set_xlim((t0, t1))  # Range of x-axis.\n",
    "ax.set_ylim((0, 100))  # Range of y-axis.\n",
    "\n",
    "line0 = ax.plot([], [], lw=2)[0]\n",
    "line1 = ax.plot([], [], lw=2)[0]\n",
    "line2 = ax.plot([], [], lw=2)[0]\n",
    "\n",
    "def init():\n",
    "    line0.set_data([], [])\n",
    "    line1.set_data([], [])\n",
    "    line2.set_data([], [])\n",
    "    return [line0, line1, line2]\n",
    "\n",
    "def animate(i):\n",
    "    # Take only first (i/FRAMES) points.\n",
    "    k = len(t) * i // FRAMES\n",
    "    line0.set_data(t[:k], y[:k, 0])\n",
    "    line1.set_data(t[:k], y[:k, 1])\n",
    "    line2.set_data(t[:k], y[:k, 2])\n",
    "    return [line0, line1, line2]\n",
    "\n",
    "anim = animation.FuncAnimation(fig, animate, init_func=init,\n",
    "                               frames=FRAMES, interval=50, blit=True)"
   ]
  },
  {
   "cell_type": "code",
   "execution_count": null,
   "metadata": {},
   "outputs": [],
   "source": [
    "HTML(anim.to_html5_video())"
   ]
  },
  {
   "cell_type": "code",
   "execution_count": null,
   "metadata": {},
   "outputs": [],
   "source": []
  }
 ],
 "metadata": {
  "kernelspec": {
   "display_name": "Python 3",
   "language": "python",
   "name": "python3"
  },
  "language_info": {
   "codemirror_mode": {
    "name": "ipython",
    "version": 3
   },
   "file_extension": ".py",
   "mimetype": "text/x-python",
   "name": "python",
   "nbconvert_exporter": "python",
   "pygments_lexer": "ipython3",
   "version": "3.5.2"
  }
 },
 "nbformat": 4,
 "nbformat_minor": 2
}
