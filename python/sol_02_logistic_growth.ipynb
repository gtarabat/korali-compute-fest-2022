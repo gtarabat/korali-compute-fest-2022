{
 "cells": [
  {
   "cell_type": "markdown",
   "metadata": {},
   "source": [
    "# Logistic growth"
   ]
  },
  {
   "cell_type": "code",
   "execution_count": null,
   "metadata": {},
   "outputs": [],
   "source": [
    "from IPython.display import HTML      # For animation.\n",
    "from matplotlib import animation      # For animation.\n",
    "from matplotlib import pyplot as plt  # For plotting.\n",
    "import numpy as np                    # For solving ODE.\n",
    "from scipy.integrate import odeint    # For solving ODE."
   ]
  },
  {
   "cell_type": "markdown",
   "metadata": {},
   "source": [
    "## Model "
   ]
  },
  {
   "cell_type": "code",
   "execution_count": null,
   "metadata": {},
   "outputs": [],
   "source": [
    "# Parameters.\n",
    "r = 0.4    # Growth coefficient.\n",
    "K = 100    # Maximum population, capacity.\n",
    "t0 = 0.0   # Initial time.\n",
    "t1 = 20.0  # Final time.\n",
    "y0 = 10    # Initial population.\n",
    "\n",
    "# Model.\n",
    "# TODO: Implement the ODE for logistic growth. Use r and K as parameters.\n",
    "# F = lamdda y, t: ...............\n",
    "F = lambda y, t: r * y * (1 - y / K)\n"
   ]
  },
  {
   "cell_type": "markdown",
   "metadata": {},
   "source": [
    "## Solution "
   ]
  },
  {
   "cell_type": "code",
   "execution_count": null,
   "metadata": {},
   "outputs": [],
   "source": [
    "# Solve ODE.\n",
    "t = np.linspace(t0, t1, 200)\n",
    "y = odeint(F, y0, t)"
   ]
  },
  {
   "cell_type": "code",
   "execution_count": null,
   "metadata": {},
   "outputs": [],
   "source": [
    "# Plot populations vs. time.\n",
    "plt.plot(t, y)\n",
    "plt.xlabel('time')\n",
    "plt.ylabel('population')\n",
    "plt.grid(linestyle=':')\n",
    "plt.show()"
   ]
  },
  {
   "cell_type": "markdown",
   "metadata": {},
   "source": [
    "## Animation "
   ]
  },
  {
   "cell_type": "code",
   "execution_count": null,
   "metadata": {},
   "outputs": [],
   "source": [
    "# Same plot, but as an animation.\n",
    "# http://louistiao.me/posts/notebooks/embedding-matplotlib-animations-in-jupyter-notebooks/\n",
    "FRAMES = 100\n",
    "\n",
    "fig, ax = plt.subplots()\n",
    "ax.grid(linestyle=':')\n",
    "ax.set_xlim((t0, t1))    # Range of x-axis.\n",
    "ax.set_ylim((0, 200))  # Range of y-axis.\n",
    "\n",
    "line = ax.plot([], [], lw=2)[0]\n",
    "\n",
    "def init():\n",
    "    line.set_data([], [])\n",
    "    return [line]\n",
    "\n",
    "def animate(i):\n",
    "    # Take only first (i/FRAMES) points.\n",
    "    k = len(t) * i // FRAMES\n",
    "    line.set_data(t[:k], y[:k])\n",
    "    return [line]\n",
    "\n",
    "anim = animation.FuncAnimation(fig, animate, init_func=init,\n",
    "                               frames=FRAMES, interval=50, blit=True)"
   ]
  },
  {
   "cell_type": "code",
   "execution_count": null,
   "metadata": {},
   "outputs": [],
   "source": [
    "# Create a video.\n",
    "HTML(anim.to_html5_video())"
   ]
  },
  {
   "cell_type": "markdown",
   "metadata": {},
   "source": [
    "## Multiple initial conditions "
   ]
  },
  {
   "cell_type": "code",
   "execution_count": null,
   "metadata": {},
   "outputs": [],
   "source": [
    "# Calculate results for multiple initial conditions.\n",
    "# We simply pass a list of initial conditions to `odeint`,\n",
    "# so that it integrates all variants simultaneously.\n",
    "y0_ = [1, 5, 10, 15, 30, 50, 70, 90, 100, 110, 130, 150, 170, 190]\n",
    "y_ = odeint(F, y0_, t)"
   ]
  },
  {
   "cell_type": "code",
   "execution_count": null,
   "metadata": {},
   "outputs": [],
   "source": [
    "# Show one line for each initial condition.\n",
    "# Each line is gradually included onto the plot.\n",
    "FRAMES_PER_LINE = 20\n",
    "N = len(y0_)  # How many different initial conditions?\n",
    "\n",
    "fig, ax = plt.subplots()\n",
    "ax.grid(linestyle=':')\n",
    "ax.set_xlim((t0, t1))    # Range of x-axis.\n",
    "ax.set_ylim((0, 200))  # Range of y-axis.\n",
    "\n",
    "# Create one line for each initial condition.\n",
    "lines = [ax.plot([], [], lw=2)[0] for _ in range(N)]\n",
    "\n",
    "def init():\n",
    "    for line in lines:\n",
    "        line.set_data([], [])\n",
    "    return lines\n",
    "\n",
    "def animate(i):\n",
    "    for j, line in enumerate(lines):\n",
    "        if i >= FRAMES_PER_LINE * (j + 1):\n",
    "            # Full line.\n",
    "            line.set_data(t, y_[:, j])\n",
    "        elif i >= FRAMES_PER_LINE * j:\n",
    "            # Partial line.\n",
    "            k = i - FRAMES_PER_LINE * j\n",
    "            k = k * len(t) // FRAMES_PER_LINE\n",
    "            line.set_data(t[:k], y_[:k, j])\n",
    "        else:\n",
    "            # Too early, no line.\n",
    "            line.set_data([], [])\n",
    "    return lines\n",
    "\n",
    "anim_ = animation.FuncAnimation(\n",
    "        fig, animate, init_func=init,\n",
    "        frames=len(y0_) * FRAMES_PER_LINE, interval=50, blit=True)"
   ]
  },
  {
   "cell_type": "code",
   "execution_count": null,
   "metadata": {},
   "outputs": [],
   "source": [
    "# Create a video.\n",
    "HTML(anim_.to_html5_video())"
   ]
  },
  {
   "cell_type": "code",
   "execution_count": null,
   "metadata": {},
   "outputs": [],
   "source": []
  }
 ],
 "metadata": {
  "kernelspec": {
   "display_name": "Python 3",
   "language": "python",
   "name": "python3"
  },
  "language_info": {
   "codemirror_mode": {
    "name": "ipython",
    "version": 3
   },
   "file_extension": ".py",
   "mimetype": "text/x-python",
   "name": "python",
   "nbconvert_exporter": "python",
   "pygments_lexer": "ipython3",
   "version": "3.5.2"
  }
 },
 "nbformat": 4,
 "nbformat_minor": 2
}
