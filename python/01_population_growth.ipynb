{
 "cells": [
  {
   "cell_type": "markdown",
   "metadata": {},
   "source": [
    "# Population growth "
   ]
  },
  {
   "cell_type": "code",
   "execution_count": null,
   "metadata": {},
   "outputs": [],
   "source": [
    "from IPython.display import HTML      # For animation.\n",
    "from matplotlib import animation      # For animation.\n",
    "from matplotlib import pyplot as plt  # For plotting.\n",
    "import numpy as np                    # For solving ODE.\n",
    "from scipy.integrate import odeint    # For solving ODE."
   ]
  },
  {
   "cell_type": "markdown",
   "metadata": {},
   "source": [
    "## Model"
   ]
  },
  {
   "cell_type": "code",
   "execution_count": null,
   "metadata": {},
   "outputs": [],
   "source": [
    "# Parameters.\n",
    "r = 0.4    # Growth coefficient.\n",
    "t0 = 0.0   # Initial time.\n",
    "t1 = 10.0  # Final time.\n",
    "y0 = 2     # Initial population.\n",
    "\n",
    "# Model.\n",
    "#\n",
    "#     F is a function of two arguments.\n",
    "#   ------------\n",
    "F = lambda y, t: r * y\n",
    "#                -----\n",
    "#                Expression that F represents.\n"
   ]
  },
  {
   "cell_type": "markdown",
   "metadata": {},
   "source": [
    "## Solution "
   ]
  },
  {
   "cell_type": "code",
   "execution_count": null,
   "metadata": {},
   "outputs": [],
   "source": [
    "# Solve ODE for t = 0.00, 0.01, ..., 10.00.\n",
    "t = np.linspace(t0, t1, 1000)\n",
    "y = odeint(F, y0, t)"
   ]
  },
  {
   "cell_type": "code",
   "execution_count": null,
   "metadata": {},
   "outputs": [],
   "source": [
    "# Plot population vs. time.\n",
    "plt.plot(t, y)\n",
    "plt.xlabel('time')\n",
    "plt.ylabel('population')\n",
    "plt.grid(linestyle=':')\n",
    "plt.show()"
   ]
  },
  {
   "cell_type": "markdown",
   "metadata": {},
   "source": [
    "## Animation "
   ]
  },
  {
   "cell_type": "code",
   "execution_count": null,
   "metadata": {},
   "outputs": [],
   "source": [
    "# Same plot, but as an animation.\n",
    "# Taken from:\n",
    "# http://louistiao.me/posts/notebooks/embedding-matplotlib-animations-in-jupyter-notebooks/\n",
    "FRAMES = 100\n",
    "\n",
    "fig, ax = plt.subplots()\n",
    "ax.grid(linestyle=':')\n",
    "ax.set_xlim((t0, t1))    # Range of x-axis.\n",
    "ax.set_ylim((0, y[-1]))  # Range of y-axis.\n",
    "\n",
    "line = ax.plot([], [], lw=2)[0]\n",
    "\n",
    "def init():\n",
    "    # Initially, line is empty (nothing is drawn).\n",
    "    line.set_data([], [])\n",
    "    \n",
    "    # Return a list of all lines. Here only one.\n",
    "    return [line]\n",
    "\n",
    "def animate(i):\n",
    "    \"\"\"Data shown on the frame #i.\"\"\"\n",
    "    # Take only first (i/FRAMES) of total number of points.\n",
    "    k = len(t) * i // FRAMES\n",
    "    line.set_data(t[:k], y[:k])\n",
    "    \n",
    "    # Return a list of all lines. Here only one.\n",
    "    return [line]\n",
    "\n",
    "anim = animation.FuncAnimation(fig, animate, init_func=init,\n",
    "                               frames=FRAMES, interval=50, blit=True)\n",
    "\n",
    "# A blank plot will be shown, ignore it."
   ]
  },
  {
   "cell_type": "code",
   "execution_count": null,
   "metadata": {},
   "outputs": [],
   "source": [
    "# Create a video.\n",
    "HTML(anim.to_html5_video())"
   ]
  },
  {
   "cell_type": "markdown",
   "metadata": {},
   "source": [
    "## Negative coefficient (population decrease) "
   ]
  },
  {
   "cell_type": "code",
   "execution_count": null,
   "metadata": {},
   "outputs": [],
   "source": [
    "# Using _ suffix to differentiate between old and new variables.\n",
    "r_ = -0.4\n",
    "y0_ = y[-1]               # Initial population value is equal to the final value earlier.\n",
    "F_ = lambda y, t: r_ * y  # New F_ uses r_ instead of r.\n",
    "y_ = odeint(F_, y0_, t)"
   ]
  },
  {
   "cell_type": "code",
   "execution_count": null,
   "metadata": {},
   "outputs": [],
   "source": [
    "fig, ax = plt.subplots()\n",
    "ax.grid(linestyle=':')\n",
    "ax.set_xlim((t0, t1))    # Range of x-axis.\n",
    "ax.set_ylim((0, y[-1]))  # Range of y-axis.\n",
    "\n",
    "line = ax.plot([], [], lw=2)[0]\n",
    "line_ = ax.plot([], [], lw=2)[0]\n",
    "\n",
    "def init():\n",
    "    line.set_data(t, y)\n",
    "    line_.set_data([], [])\n",
    "    return [line, line_]\n",
    "\n",
    "def animate(i):\n",
    "    # Take only first (i/FRAMES) of total number of points.\n",
    "    k = len(t) * i // FRAMES\n",
    "    line_.set_data(t[:k], y_[:k])\n",
    "    return [line, line_]\n",
    "\n",
    "anim_ = animation.FuncAnimation(fig, animate, init_func=init,\n",
    "                                frames=FRAMES, interval=50, blit=True)"
   ]
  },
  {
   "cell_type": "code",
   "execution_count": null,
   "metadata": {},
   "outputs": [],
   "source": [
    "# Create a video.\n",
    "HTML(anim_.to_html5_video())"
   ]
  },
  {
   "cell_type": "code",
   "execution_count": null,
   "metadata": {},
   "outputs": [],
   "source": []
  }
 ],
 "metadata": {
  "kernelspec": {
   "display_name": "Python 3",
   "language": "python",
   "name": "python3"
  },
  "language_info": {
   "codemirror_mode": {
    "name": "ipython",
    "version": 3
   },
   "file_extension": ".py",
   "mimetype": "text/x-python",
   "name": "python",
   "nbconvert_exporter": "python",
   "pygments_lexer": "ipython3",
   "version": "3.5.2"
  }
 },
 "nbformat": 4,
 "nbformat_minor": 2
}
