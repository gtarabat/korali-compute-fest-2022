{
 "cells": [
  {
   "cell_type": "markdown",
   "metadata": {},
   "source": [
    "# Phase diagram of Lotka-Volterra equation "
   ]
  },
  {
   "cell_type": "code",
   "execution_count": null,
   "metadata": {},
   "outputs": [],
   "source": [
    "from IPython.display import HTML      # For animation.\n",
    "from matplotlib import animation      # For animation.\n",
    "from matplotlib import pyplot as plt  # For plotting.\n",
    "import numpy as np                    # For solving ODE.\n",
    "from scipy.integrate import odeint    # For solving ODE."
   ]
  },
  {
   "cell_type": "code",
   "execution_count": null,
   "metadata": {},
   "outputs": [],
   "source": [
    "# Parameters.\n",
    "a = 0.5\n",
    "b = 0.01\n",
    "c = 0.1\n",
    "d = 0.01\n",
    "\n",
    "t0 = 0.0    # Initial time.\n",
    "t1 = 100.0  # Final time.\n",
    "y0 = [      # Multiple initial conditions.\n",
    "    [20, 50],\n",
    "    [25, 50],\n",
    "    [30, 50],\n",
    "    [35, 50],\n",
    "    [40, 50],\n",
    "    [45, 50],\n",
    "    [50, 50],\n",
    "    [55, 50],\n",
    "    [60, 50],\n",
    "    [65, 50],\n",
    "]\n",
    "N = len(y0)  # How many different initial conditions?\n",
    "\n",
    "# Model.\n",
    "F = lambda y, t: [\n",
    "    y[0] * (a - b * y[1]),   # How population 0 changes.\n",
    "    y[1] * (-c + d * y[0]),  # How population 1 changes.\n",
    "]"
   ]
  },
  {
   "cell_type": "code",
   "execution_count": null,
   "metadata": {},
   "outputs": [],
   "source": [
    "# Solve ODE.\n",
    "t = np.linspace(t0, t1, 1000)\n",
    "y = [odeint(F, y0[n], t) for n in range(N)]"
   ]
  },
  {
   "cell_type": "code",
   "execution_count": null,
   "metadata": {},
   "outputs": [],
   "source": [
    "# Plot population vs. time.\n",
    "# Show only first set of initial conditions.\n",
    "plt.plot(t, y[0][:, 0], label='prey')\n",
    "plt.plot(t, y[0][:, 1], label='predator')\n",
    "plt.xlabel('time')\n",
    "plt.ylabel('population')\n",
    "plt.grid(linestyle=':')\n",
    "plt.legend()\n",
    "plt.show()"
   ]
  },
  {
   "cell_type": "code",
   "execution_count": null,
   "metadata": {},
   "outputs": [],
   "source": [
    "# Population-population plot (phase diagram).\n",
    "# Only for the first set of initial conditions.\n",
    "plt.plot(y[0][:, 0], y[0][:, 1])\n",
    "plt.xlabel('prey')\n",
    "plt.ylabel('predator')\n",
    "plt.grid(linestyle=':')\n",
    "plt.show()"
   ]
  },
  {
   "cell_type": "markdown",
   "metadata": {},
   "source": [
    "## Phase diagram animation"
   ]
  },
  {
   "cell_type": "code",
   "execution_count": null,
   "metadata": {},
   "outputs": [],
   "source": [
    "# Animate the first set.\n",
    "# We have two plots:\n",
    "#   Left  -- phase diagram,\n",
    "#   Right -- time-population plot.\n",
    "FRAMES = 100\n",
    "CUT_T = 0.35  # Show only first 35% of the interval [t0, t1].\n",
    "\n",
    "fig, ax = plt.subplots(ncols=2, figsize=(10, 5))  # Two plots side by side.\n",
    "\n",
    "# Left plot (phase diagram).\n",
    "ax[0].grid(linestyle=':')\n",
    "ax[0].set_xlim((0, 40))  # Range of x-axis.\n",
    "ax[0].set_ylim((0, 80))  # Range of y-axis.\n",
    "ax[0].set_xlabel('prey')\n",
    "ax[0].set_ylabel('predator')\n",
    "\n",
    "# Right plot (time-population).\n",
    "ax[1].grid(linestyle=':')\n",
    "ax[1].set_xlim((t0, t0 + (t1 - t0) * CUT_T))  # Range of x-axis.\n",
    "ax[1].set_ylim((0, 80))  # Range of y-axis.\n",
    "ax[1].set_xlabel('time')\n",
    "ax[1].set_ylabel('population')\n",
    "\n",
    "line_pp  = ax[0].plot([], [], lw=2)[0]\n",
    "line_tp0 = ax[1].plot([], [], lw=2)[0]\n",
    "line_tp1 = ax[1].plot([], [], lw=2)[0]\n",
    "\n",
    "def init():\n",
    "    # Initially, all lines are empty.\n",
    "    line_pp.set_data([], [])\n",
    "    line_tp0.set_data([], [])\n",
    "    line_tp1.set_data([], [])\n",
    "    return [line_pp, line_tp0, line_tp1]\n",
    "\n",
    "def animate(i):\n",
    "    k = int(len(t) * CUT_T * i / FRAMES)\n",
    "    line_pp.set_data(y[0][:k, 0], y[0][:k, 1])\n",
    "    line_tp0.set_data(t[:k], y[0][:k, 0])\n",
    "    line_tp1.set_data(t[:k], y[0][:k, 1])\n",
    "    return [line_pp, line_tp0, line_tp1]\n",
    "\n",
    "anim = animation.FuncAnimation(fig, animate, init_func=init,\n",
    "                               frames=FRAMES, interval=100, blit=True)"
   ]
  },
  {
   "cell_type": "code",
   "execution_count": null,
   "metadata": {},
   "outputs": [],
   "source": [
    "# Create a video.\n",
    "HTML(anim.to_html5_video())"
   ]
  },
  {
   "cell_type": "markdown",
   "metadata": {},
   "source": [
    "## Phase diagram and multiple initial conditions"
   ]
  },
  {
   "cell_type": "code",
   "execution_count": null,
   "metadata": {},
   "outputs": [],
   "source": [
    "# Now, show phase diagrams for all sets of initial conditions.\n",
    "# We have two plots:\n",
    "#   Left  -- phase diagram (all sets together, each frame one new set added)\n",
    "#   Right -- time-population plot for the current set. \n",
    "\n",
    "fig, ax = plt.subplots(ncols=2, figsize=(10, 5))  # Two plots side by side.\n",
    "\n",
    "# Left plot (phase diagram).\n",
    "ax[0].grid(linestyle=':')\n",
    "ax[0].set_xlim((0, 80))  # Range of x-axis.\n",
    "ax[0].set_ylim((0, 150))  # Range of y-axis.\n",
    "ax[0].set_xlabel('prey')\n",
    "ax[0].set_ylabel('predator')\n",
    "\n",
    "# Right plot (time-population).\n",
    "ax[1].grid(linestyle=':')\n",
    "ax[1].set_xlim((t0, t1))  # Range of x-axis.\n",
    "ax[1].set_ylim((0, 150))  # Range of y-axis.\n",
    "ax[1].set_xlabel('time')\n",
    "ax[1].set_ylabel('population')\n",
    "\n",
    "lines_pp = [ax[0].plot([], [], lw=2)[0] for n in range(N)]\n",
    "line_tp0 = ax[1].plot([], [], lw=2)[0]\n",
    "line_tp1 = ax[1].plot([], [], lw=2)[0]\n",
    "\n",
    "def init():\n",
    "    for line in lines_pp:\n",
    "        line.set_data([], [])\n",
    "    line_tp0.set_data([], [])    \n",
    "    line_tp1.set_data([], [])    \n",
    "    \n",
    "    # Return the list of all lines.\n",
    "    return lines_pp + [line_tp0, line_tp1]\n",
    "\n",
    "def animate(i):\n",
    "    # Only update lines that are updated, others will\n",
    "    # take the values from the previous frame.\n",
    "    lines_pp[i].set_data(y[i][:, 0], y[i][:, 1])\n",
    "    line_tp0.set_data(t, y[i][:, 0])\n",
    "    line_tp1.set_data(t, y[i][:, 1])\n",
    "    return lines_pp + [line_tp0, line_tp1]\n",
    "\n",
    "anim2 = animation.FuncAnimation(fig, animate, init_func=init,\n",
    "                                frames=N, interval=500, blit=True)"
   ]
  },
  {
   "cell_type": "code",
   "execution_count": null,
   "metadata": {},
   "outputs": [],
   "source": [
    "# Create a video.\n",
    "HTML(anim2.to_html5_video())"
   ]
  },
  {
   "cell_type": "code",
   "execution_count": null,
   "metadata": {},
   "outputs": [],
   "source": []
  }
 ],
 "metadata": {
  "kernelspec": {
   "display_name": "Python 3",
   "language": "python",
   "name": "python3"
  },
  "language_info": {
   "codemirror_mode": {
    "name": "ipython",
    "version": 3
   },
   "file_extension": ".py",
   "mimetype": "text/x-python",
   "name": "python",
   "nbconvert_exporter": "python",
   "pygments_lexer": "ipython3",
   "version": "3.5.2"
  }
 },
 "nbformat": 4,
 "nbformat_minor": 2
}
