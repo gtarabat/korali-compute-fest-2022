{
 "cells": [
  {
   "cell_type": "markdown",
   "metadata": {},
   "source": [
    "# Inference (on synthetic data) "
   ]
  },
  {
   "cell_type": "code",
   "execution_count": null,
   "metadata": {},
   "outputs": [],
   "source": [
    "from IPython.display import HTML      # For animation.\n",
    "from matplotlib import animation      # For animation.\n",
    "from matplotlib import pyplot as plt  # For plotting.\n",
    "import numpy as np                    # For solving ODE.\n",
    "from scipy.integrate import odeint    # For solving ODE.\n",
    "import cma                            # For optimization."
   ]
  },
  {
   "cell_type": "markdown",
   "metadata": {},
   "source": [
    "## Generating synthetic data "
   ]
  },
  {
   "cell_type": "code",
   "execution_count": null,
   "metadata": {},
   "outputs": [],
   "source": [
    "# Parameters.\n",
    "a = 0.5\n",
    "b = 0.028\n",
    "c = 0.85\n",
    "d = 0.02\n",
    "\n",
    "t0 = 0.0\n",
    "t1 = 20.0\n",
    "y0 = [30, 4]\n",
    "\n",
    "# Model.\n",
    "F = lambda y, t: [\n",
    "    y[0] * (a - b * y[1]),   # How population 0 changes.\n",
    "    y[1] * (-c + d * y[0]),  # How population 1 changes.\n",
    "]"
   ]
  },
  {
   "cell_type": "code",
   "execution_count": null,
   "metadata": {},
   "outputs": [],
   "source": [
    "# Solve ODE to prepare synthetic data.\n",
    "data_t = np.linspace(t0, t1, 20)  # Only 20 points!\n",
    "data_y = odeint(F, y0, data_t)"
   ]
  },
  {
   "cell_type": "code",
   "execution_count": null,
   "metadata": {},
   "outputs": [],
   "source": [
    "# Time-population plot.\n",
    "plt.plot(data_t, data_y[:, 0], '--o', label='prey')\n",
    "plt.plot(data_t, data_y[:, 1], '--o', label='predator')\n",
    "plt.xlabel('time')\n",
    "plt.ylabel('population')\n",
    "plt.grid(linestyle=':')\n",
    "plt.legend()\n",
    "plt.show()"
   ]
  },
  {
   "cell_type": "markdown",
   "metadata": {},
   "source": [
    "## Optimization (finding optimal paremeters) "
   ]
  },
  {
   "cell_type": "code",
   "execution_count": null,
   "metadata": {},
   "outputs": [],
   "source": [
    "def evaluate(params):\n",
    "    \"\"\"Given some parameters, calculate how much does\n",
    "    the Lotka-Vortella result deviate from data.\"\"\"\n",
    "    a, b, c, d = params\n",
    "    F = lambda y, t: [\n",
    "        y[0] * (a - b * y[1]),   # How population 0 changes.\n",
    "        y[1] * (-c + d * y[0]),  # How population 1 changes.\n",
    "    ]\n",
    "\n",
    "    # Evaluate at the same points the data is available at.\n",
    "    y = odeint(F, y0, data_t)\n",
    "    \n",
    "    # We define deviation as the sum of squares of differences (Frobenius norm).\n",
    "    result = np.linalg.norm(y - data_y, 'fro')\n",
    "\n",
    "    return result"
   ]
  },
  {
   "cell_type": "code",
   "execution_count": null,
   "metadata": {},
   "outputs": [],
   "source": [
    "initial_guess = [0.1, 0.05, 0.1, 0.05]  # Initial guess of (a, b, c, d).\n",
    "lower_bounds = [0.1, 0.001, 0.1, 0.001]\n",
    "upper_bounds = [0.9, 0.1, 0.9, 0.1]\n",
    "\n",
    "def constrained_evaluation(params):\n",
    "    \"\"\"Wrap `evaluate` function with a penalization that\n",
    "    keeps the parameters in specific ranges.\"\"\"\n",
    "    penalty = 0\n",
    "    for lb, v, ub in zip(lower_bounds, params, upper_bounds):\n",
    "        if v < lb:\n",
    "            penalty += (lb - v) ** 2  # Too low.\n",
    "        elif v > ub:\n",
    "            penalty += (v - ub) ** 2  # Too high.\n",
    "    return 1e6 * penalty + evaluate(params)\n",
    "\n",
    "es = cma.CMAEvolutionStrategy(initial_guess, 0.5, {'popsize': 64})\n",
    "cma_result = es.optimize(constrained_evaluation)\n",
    "\n",
    "print(\"\\nOptimization done! Best parameters:\", cma_result.best.get()[0])"
   ]
  },
  {
   "cell_type": "code",
   "execution_count": null,
   "metadata": {},
   "outputs": [],
   "source": [
    "# Best parameter set is:\n",
    "cma_result.best.get()[0]"
   ]
  },
  {
   "cell_type": "code",
   "execution_count": null,
   "metadata": {},
   "outputs": [],
   "source": [
    "# Extract parameters as a_, b_, c_ and d_.\n",
    "a_, b_, c_, d_ = cma_result.best.get()[0]\n",
    "\n",
    "# Define new ODE with the \n",
    "F_ = lambda y, t: [\n",
    "    y[0] * (a_ - b_ * y[1]),   # How population 0 changes.\n",
    "    y[1] * (-c_ + d_ * y[0]),  # How population 1 changes.\n",
    "]\n",
    "\n",
    "t = np.linspace(t0, t1, 100)\n",
    "y = odeint(F_, y0, t)"
   ]
  },
  {
   "cell_type": "code",
   "execution_count": null,
   "metadata": {},
   "outputs": [],
   "source": [
    "# Time-population plot.\n",
    "plt.plot(data_t, data_y[:, 0], '--o', color='tab:blue', label='prey (data)')\n",
    "plt.plot(data_t, data_y[:, 1], '--o', color='tab:orange', label='predator (data)')\n",
    "plt.plot(t, y[:, 0], color='tab:blue', label='prey')\n",
    "plt.plot(t, y[:, 1], color='tab:orange', label='predator')\n",
    "plt.xlabel('time')\n",
    "plt.ylabel('population')\n",
    "plt.grid(linestyle=':')\n",
    "plt.legend()\n",
    "plt.show()"
   ]
  },
  {
   "cell_type": "code",
   "execution_count": null,
   "metadata": {},
   "outputs": [],
   "source": []
  }
 ],
 "metadata": {
  "kernelspec": {
   "display_name": "Python 3",
   "language": "python",
   "name": "python3"
  },
  "language_info": {
   "codemirror_mode": {
    "name": "ipython",
    "version": 3
   },
   "file_extension": ".py",
   "mimetype": "text/x-python",
   "name": "python",
   "nbconvert_exporter": "python",
   "pygments_lexer": "ipython3",
   "version": "3.5.2"
  }
 },
 "nbformat": 4,
 "nbformat_minor": 2
}
