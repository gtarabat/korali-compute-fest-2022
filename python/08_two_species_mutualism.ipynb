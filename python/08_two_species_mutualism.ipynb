{
 "cells": [
  {
   "cell_type": "markdown",
   "metadata": {},
   "source": [
    "# Mutualism (with two species) "
   ]
  },
  {
   "cell_type": "code",
   "execution_count": null,
   "metadata": {},
   "outputs": [],
   "source": [
    "from IPython.display import HTML      # For animation.\n",
    "from matplotlib import animation      # For animation.\n",
    "from matplotlib import pyplot as plt  # For plotting.\n",
    "import numpy as np                    # For solving ODE.\n",
    "from scipy.integrate import odeint    # For solving ODE."
   ]
  },
  {
   "cell_type": "markdown",
   "metadata": {},
   "source": [
    "## Model "
   ]
  },
  {
   "cell_type": "code",
   "execution_count": null,
   "metadata": {},
   "outputs": [],
   "source": [
    "# Parameters.\n",
    "a = 0.3\n",
    "b = 0.0011\n",
    "c = 0.01\n",
    "d = 0.4\n",
    "e = 0.01\n",
    "f = 0.0\n",
    "\n",
    "t0 = 0.0\n",
    "t1 = 190.0\n",
    "y0 = [100, 20]  # Initial population of species 0 and 1.\n",
    "\n",
    "# Model.\n",
    "F = lambda y, t: [\n",
    "    y[0] * (a - b * y[0] - c * y[1]),   # How population 0 changes.\n",
    "    y[1] * (-d + e * y[0] - f * y[1]),  # How population 1 changes.\n",
    "]"
   ]
  },
  {
   "cell_type": "markdown",
   "metadata": {},
   "source": [
    "## Solution "
   ]
  },
  {
   "cell_type": "code",
   "execution_count": null,
   "metadata": {},
   "outputs": [],
   "source": [
    "# Solve ODE.\n",
    "t = np.linspace(t0, t1, 1000)\n",
    "y = odeint(F, y0, t)"
   ]
  },
  {
   "cell_type": "code",
   "execution_count": null,
   "metadata": {},
   "outputs": [],
   "source": [
    "plt.plot(t, y[:, 0], label='prey')\n",
    "plt.plot(t, y[:, 1], label='predator')\n",
    "plt.xlabel('time')\n",
    "plt.ylabel('population')\n",
    "plt.grid(linestyle=':')\n",
    "plt.legend()\n",
    "plt.show()"
   ]
  },
  {
   "cell_type": "markdown",
   "metadata": {},
   "source": [
    "## Animation "
   ]
  },
  {
   "cell_type": "code",
   "execution_count": null,
   "metadata": {},
   "outputs": [],
   "source": [
    "# Same plot, but as an animation.\n",
    "# http://louistiao.me/posts/notebooks/embedding-matplotlib-animations-in-jupyter-notebooks/\n",
    "FRAMES = 200\n",
    "\n",
    "fig, ax = plt.subplots()\n",
    "ax.grid(linestyle=':')\n",
    "ax.set_xlim((t0, t1))  # Range of x-axis.\n",
    "ax.set_ylim((0, 100))  # Range of y-axis.\n",
    "\n",
    "line0, = ax.plot([], [], lw=2)\n",
    "line1, = ax.plot([], [], lw=2)\n",
    "\n",
    "def init():\n",
    "    line0.set_data([], [])\n",
    "    line1.set_data([], [])\n",
    "    return (line0, line1)\n",
    "\n",
    "def animate(i):\n",
    "    # Take only first (i/FRAMES) points.\n",
    "    k = len(t) * i // FRAMES\n",
    "    line0.set_data(t[:k], y[:k, 0])\n",
    "    line1.set_data(t[:k], y[:k, 1])\n",
    "    return (line0, line1)\n",
    "\n",
    "anim = animation.FuncAnimation(fig, animate, init_func=init,\n",
    "                               frames=FRAMES, interval=50, blit=True)"
   ]
  },
  {
   "cell_type": "code",
   "execution_count": null,
   "metadata": {},
   "outputs": [],
   "source": [
    "HTML(anim.to_html5_video())"
   ]
  },
  {
   "cell_type": "code",
   "execution_count": null,
   "metadata": {},
   "outputs": [],
   "source": []
  }
 ],
 "metadata": {
  "kernelspec": {
   "display_name": "Python 3",
   "language": "python",
   "name": "python3"
  },
  "language_info": {
   "codemirror_mode": {
    "name": "ipython",
    "version": 3
   },
   "file_extension": ".py",
   "mimetype": "text/x-python",
   "name": "python",
   "nbconvert_exporter": "python",
   "pygments_lexer": "ipython3",
   "version": "3.5.2"
  }
 },
 "nbformat": 4,
 "nbformat_minor": 2
}
